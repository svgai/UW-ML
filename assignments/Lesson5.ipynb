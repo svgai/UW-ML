{
 "cells": [
  {
   "cell_type": "markdown",
   "metadata": {},
   "source": [
    "<h1>Lesson 5. Model selection: City of Seattle Wage Data</h1>"
   ]
  },
  {
   "cell_type": "markdown",
   "metadata": {},
   "source": [
    "<img src=\"https://upload.wikimedia.org/wikipedia/commons/thumb/2/2f/Space_Needle002.jpg/320px-Space_Needle002.jpg\" style=\"height:200px;\">\n",
    "  \n",
    "<p>In this exercise you will use recent wage data from City of Seattle to build a model that predicts hourly rate based on:</p>\n",
    "\n",
    "<ul>\n",
    "<li>Department</li>\n",
    "<li>Last.Name</li>\n",
    "<li>First.Name</li>\n",
    "<li>Job.Title</li>\n",
    "</ul>\n",
    "<p>This dataset contains 12,346 entries in which we will try to predict 'Hourly.Rate'</p>\n"
   ]
  },
  {
   "cell_type": "code",
   "execution_count": 1,
   "metadata": {},
   "outputs": [
    {
     "data": {
      "text/html": [
       "<table>\n",
       "<thead><tr><th scope=col>Department</th><th scope=col>Last.Name</th><th scope=col>First.Name</th><th scope=col>Job.Title</th><th scope=col>Hourly.Rate</th></tr></thead>\n",
       "<tbody>\n",
       "\t<tr><td>Arts and Culture        </td><td>Boas-Du Pree            </td><td>Sandra                  </td><td>Admin Staff Asst        </td><td>34.48                   </td></tr>\n",
       "\t<tr><td>Arts and Culture        </td><td>Bolisay                 </td><td>Ronald                  </td><td>Publc Relations Spec    </td><td>29.09                   </td></tr>\n",
       "\t<tr><td>Arts and Culture        </td><td>Chai                    </td><td>Grace                   </td><td>Cooperative Intern *    </td><td>16.12                   </td></tr>\n",
       "\t<tr><td>Arts and Culture        </td><td>Childers                </td><td>Calandra                </td><td>StratAdvsr3,Exempt      </td><td>48.71                   </td></tr>\n",
       "\t<tr><td>Arts and Culture        </td><td>Crooks                  </td><td>Jennifer                </td><td>Arts Prgm Spec          </td><td>35.93                   </td></tr>\n",
       "\t<tr><td>Arts and Culture        </td><td>Davis                   </td><td>Lara                    </td><td>StratAdvsr1,General Govt</td><td>39.29                   </td></tr>\n",
       "</tbody>\n",
       "</table>\n"
      ],
      "text/latex": [
       "\\begin{tabular}{r|lllll}\n",
       " Department & Last.Name & First.Name & Job.Title & Hourly.Rate\\\\\n",
       "\\hline\n",
       "\t Arts and Culture         & Boas-Du Pree             & Sandra                   & Admin Staff Asst         & 34.48                   \\\\\n",
       "\t Arts and Culture         & Bolisay                  & Ronald                   & Publc Relations Spec     & 29.09                   \\\\\n",
       "\t Arts and Culture         & Chai                     & Grace                    & Cooperative Intern *     & 16.12                   \\\\\n",
       "\t Arts and Culture         & Childers                 & Calandra                 & StratAdvsr3,Exempt       & 48.71                   \\\\\n",
       "\t Arts and Culture         & Crooks                   & Jennifer                 & Arts Prgm Spec           & 35.93                   \\\\\n",
       "\t Arts and Culture         & Davis                    & Lara                     & StratAdvsr1,General Govt & 39.29                   \\\\\n",
       "\\end{tabular}\n"
      ],
      "text/markdown": [
       "\n",
       "Department | Last.Name | First.Name | Job.Title | Hourly.Rate | \n",
       "|---|---|---|---|---|---|\n",
       "| Arts and Culture         | Boas-Du Pree             | Sandra                   | Admin Staff Asst         | 34.48                    | \n",
       "| Arts and Culture         | Bolisay                  | Ronald                   | Publc Relations Spec     | 29.09                    | \n",
       "| Arts and Culture         | Chai                     | Grace                    | Cooperative Intern *     | 16.12                    | \n",
       "| Arts and Culture         | Childers                 | Calandra                 | StratAdvsr3,Exempt       | 48.71                    | \n",
       "| Arts and Culture         | Crooks                   | Jennifer                 | Arts Prgm Spec           | 35.93                    | \n",
       "| Arts and Culture         | Davis                    | Lara                     | StratAdvsr1,General Govt | 39.29                    | \n",
       "\n",
       "\n"
      ],
      "text/plain": [
       "  Department       Last.Name    First.Name Job.Title                Hourly.Rate\n",
       "1 Arts and Culture Boas-Du Pree Sandra     Admin Staff Asst         34.48      \n",
       "2 Arts and Culture Bolisay      Ronald     Publc Relations Spec     29.09      \n",
       "3 Arts and Culture Chai         Grace      Cooperative Intern *     16.12      \n",
       "4 Arts and Culture Childers     Calandra   StratAdvsr3,Exempt       48.71      \n",
       "5 Arts and Culture Crooks       Jennifer   Arts Prgm Spec           35.93      \n",
       "6 Arts and Culture Davis        Lara       StratAdvsr1,General Govt 39.29      "
      ]
     },
     "metadata": {},
     "output_type": "display_data"
    },
    {
     "name": "stdout",
     "output_type": "stream",
     "text": [
      "'data.frame':\t12346 obs. of  5 variables:\n",
      " $ Department : chr  \"Arts and Culture\" \"Arts and Culture\" \"Arts and Culture\" \"Arts and Culture\" ...\n",
      " $ Last.Name  : chr  \"Boas-Du Pree\" \"Bolisay\" \"Chai\" \"Childers\" ...\n",
      " $ First.Name : chr  \"Sandra\" \"Ronald\" \"Grace\" \"Calandra\" ...\n",
      " $ Job.Title  : chr  \"Admin Staff Asst\" \"Publc Relations Spec\" \"Cooperative Intern *\" \"StratAdvsr3,Exempt\" ...\n",
      " $ Hourly.Rate: num  34.5 29.1 16.1 48.7 35.9 ...\n"
     ]
    }
   ],
   "source": [
    "# Load the data\n",
    "wage_url = \"https://data.seattle.gov/api/views/2khk-5ukd/rows.csv?accessType=DOWNLOAD\"\n",
    "wage = read.csv(wage_url, stringsAsFactors=F)\n",
    "\n",
    "head(wage)\n",
    "str(wage)"
   ]
  },
  {
   "cell_type": "code",
   "execution_count": null,
   "metadata": {},
   "outputs": [],
   "source": []
  },
  {
   "cell_type": "markdown",
   "metadata": {},
   "source": [
    "<h3>Q.1. Write a command that will calculate the number of unique values for each feature.</h3>"
   ]
  },
  {
   "cell_type": "code",
   "execution_count": 2,
   "metadata": {},
   "outputs": [
    {
     "data": {
      "text/html": [
       "<table>\n",
       "<thead><tr><th scope=col>Department</th><th scope=col>Last.Name</th><th scope=col>First.Name</th><th scope=col>Job.Title</th><th scope=col>Hourly.Rate</th></tr></thead>\n",
       "<tbody>\n",
       "\t<tr><td>36  </td><td>7446</td><td>3319</td><td>1026</td><td>1730</td></tr>\n",
       "</tbody>\n",
       "</table>\n"
      ],
      "text/latex": [
       "\\begin{tabular}{r|lllll}\n",
       " Department & Last.Name & First.Name & Job.Title & Hourly.Rate\\\\\n",
       "\\hline\n",
       "\t 36   & 7446 & 3319 & 1026 & 1730\\\\\n",
       "\\end{tabular}\n"
      ],
      "text/markdown": [
       "\n",
       "Department | Last.Name | First.Name | Job.Title | Hourly.Rate | \n",
       "|---|\n",
       "| 36   | 7446 | 3319 | 1026 | 1730 | \n",
       "\n",
       "\n"
      ],
      "text/plain": [
       "  Department Last.Name First.Name Job.Title Hourly.Rate\n",
       "1 36         7446      3319       1026      1730       "
      ]
     },
     "metadata": {},
     "output_type": "display_data"
    }
   ],
   "source": [
    "# Command(s)\n",
    "library(data.table)\n",
    "wage.Unique <- data.table(Department=uniqueN(wage$Department),\n",
    "                          Last.Name = uniqueN(wage$Last.Name),\n",
    "                          First.Name = uniqueN(wage$First.Name),\n",
    "                          Job.Title = uniqueN(wage$Job.Title),\n",
    "                          Hourly.Rate = uniqueN(wage$Hourly.Rate))\n",
    "wage.Unique"
   ]
  },
  {
   "cell_type": "markdown",
   "metadata": {},
   "source": [
    "<h3>Q.2. Write a command that will show mean wage for each department.</h3>"
   ]
  },
  {
   "cell_type": "code",
   "execution_count": 3,
   "metadata": {},
   "outputs": [
    {
     "data": {
      "text/html": [
       "<table>\n",
       "<thead><tr><th scope=col>Department</th><th scope=col>V1</th></tr></thead>\n",
       "<tbody>\n",
       "\t<tr><td>Arts and Culture              </td><td>34.90595                      </td></tr>\n",
       "\t<tr><td>City Auditor                  </td><td>56.00900                      </td></tr>\n",
       "\t<tr><td>City Budget Office            </td><td>49.09900                      </td></tr>\n",
       "\t<tr><td>City Employees Retirement Syst</td><td>49.01767                      </td></tr>\n",
       "\t<tr><td>City Light                    </td><td>42.45070                      </td></tr>\n",
       "\t<tr><td>Civil Service Commissions     </td><td>16.03250                      </td></tr>\n",
       "\t<tr><td>Community Police Commission   </td><td>43.12000                      </td></tr>\n",
       "\t<tr><td>Construction and Land Use     </td><td>20.30667                      </td></tr>\n",
       "\t<tr><td>Dept of Education &amp; Early Lrng</td><td>41.17759                          </td></tr>\n",
       "\t<tr><td><span style=white-space:pre-wrap>Dept of Finance &amp; Admn Svc    </span></td><td>39.36500                                                                  </td></tr>\n",
       "\t<tr><td>Dept of Neighborhoods         </td><td>16.12000                      </td></tr>\n",
       "\t<tr><td>Fire Department               </td><td>43.16876                      </td></tr>\n",
       "\t<tr><td>Human Services                </td><td>30.26547                      </td></tr>\n",
       "\t<tr><td>Parks Department              </td><td>25.26890                      </td></tr>\n",
       "\t<tr><td>Hearing Examiner              </td><td>47.63800                      </td></tr>\n",
       "\t<tr><td><span style=white-space:pre-wrap>Immigrant &amp; Refugee Affairs   </span></td><td>39.32333                                                                  </td></tr>\n",
       "\t<tr><td>Intergovernmental Relations   </td><td>49.52500                      </td></tr>\n",
       "\t<tr><td>Legislative                   </td><td>17.09818                      </td></tr>\n",
       "\t<tr><td>Legislative-City Council      </td><td>40.92830                      </td></tr>\n",
       "\t<tr><td>Mayor's Office                </td><td>49.43750                      </td></tr>\n",
       "\t<tr><td>Neighborhoods Department      </td><td>39.02357                      </td></tr>\n",
       "\t<tr><td>Office for Civil Rights       </td><td>39.76778                      </td></tr>\n",
       "\t<tr><td>Office of Economic Development</td><td>44.54250                      </td></tr>\n",
       "\t<tr><td><span style=white-space:pre-wrap>Office of Ethics &amp; Elections  </span></td><td>45.82700                                                                  </td></tr>\n",
       "\t<tr><td>Office of Housing             </td><td>43.14000                      </td></tr>\n",
       "\t<tr><td>Office of Labor Standards     </td><td>39.34286                      </td></tr>\n",
       "\t<tr><td>Office of Sustainability &amp; Env</td><td>46.39125                          </td></tr>\n",
       "\t<tr><td>Planning and Community Develop</td><td>47.47523                      </td></tr>\n",
       "\t<tr><td>Police Department             </td><td>43.95464                      </td></tr>\n",
       "\t<tr><td>Seattle Center                </td><td>25.91778                      </td></tr>\n",
       "\t<tr><td>Police Pension System         </td><td>54.08750                      </td></tr>\n",
       "\t<tr><td>Seattle Dept of Const and Insp</td><td>42.91403                      </td></tr>\n",
       "\t<tr><td>Seattle Dept of HumanResources</td><td>43.98412                      </td></tr>\n",
       "\t<tr><td>Seattle Dept of Transportation</td><td>39.83351                      </td></tr>\n",
       "\t<tr><td>Seattle Information Technology</td><td>50.29199                      </td></tr>\n",
       "\t<tr><td>Seattle Public Utilities      </td><td>39.89413                      </td></tr>\n",
       "</tbody>\n",
       "</table>\n"
      ],
      "text/latex": [
       "\\begin{tabular}{r|ll}\n",
       " Department & V1\\\\\n",
       "\\hline\n",
       "\t Arts and Culture               & 34.90595                      \\\\\n",
       "\t City Auditor                   & 56.00900                      \\\\\n",
       "\t City Budget Office             & 49.09900                      \\\\\n",
       "\t City Employees Retirement Syst & 49.01767                      \\\\\n",
       "\t City Light                     & 42.45070                      \\\\\n",
       "\t Civil Service Commissions      & 16.03250                      \\\\\n",
       "\t Community Police Commission    & 43.12000                      \\\\\n",
       "\t Construction and Land Use      & 20.30667                      \\\\\n",
       "\t Dept of Education \\& Early Lrng & 41.17759                        \\\\\n",
       "\t Dept of Finance \\& Admn Svc     & 39.36500                        \\\\\n",
       "\t Dept of Neighborhoods          & 16.12000                      \\\\\n",
       "\t Fire Department                & 43.16876                      \\\\\n",
       "\t Human Services                 & 30.26547                      \\\\\n",
       "\t Parks Department               & 25.26890                      \\\\\n",
       "\t Hearing Examiner               & 47.63800                      \\\\\n",
       "\t Immigrant \\& Refugee Affairs    & 39.32333                        \\\\\n",
       "\t Intergovernmental Relations    & 49.52500                      \\\\\n",
       "\t Legislative                    & 17.09818                      \\\\\n",
       "\t Legislative-City Council       & 40.92830                      \\\\\n",
       "\t Mayor's Office                 & 49.43750                      \\\\\n",
       "\t Neighborhoods Department       & 39.02357                      \\\\\n",
       "\t Office for Civil Rights        & 39.76778                      \\\\\n",
       "\t Office of Economic Development & 44.54250                      \\\\\n",
       "\t Office of Ethics \\& Elections   & 45.82700                        \\\\\n",
       "\t Office of Housing              & 43.14000                      \\\\\n",
       "\t Office of Labor Standards      & 39.34286                      \\\\\n",
       "\t Office of Sustainability \\& Env & 46.39125                        \\\\\n",
       "\t Planning and Community Develop & 47.47523                      \\\\\n",
       "\t Police Department              & 43.95464                      \\\\\n",
       "\t Seattle Center                 & 25.91778                      \\\\\n",
       "\t Police Pension System          & 54.08750                      \\\\\n",
       "\t Seattle Dept of Const and Insp & 42.91403                      \\\\\n",
       "\t Seattle Dept of HumanResources & 43.98412                      \\\\\n",
       "\t Seattle Dept of Transportation & 39.83351                      \\\\\n",
       "\t Seattle Information Technology & 50.29199                      \\\\\n",
       "\t Seattle Public Utilities       & 39.89413                      \\\\\n",
       "\\end{tabular}\n"
      ],
      "text/markdown": [
       "\n",
       "Department | V1 | \n",
       "|---|---|---|---|---|---|---|---|---|---|---|---|---|---|---|---|---|---|---|---|---|---|---|---|---|---|---|---|---|---|---|---|---|---|---|---|\n",
       "| Arts and Culture               | 34.90595                       | \n",
       "| City Auditor                   | 56.00900                       | \n",
       "| City Budget Office             | 49.09900                       | \n",
       "| City Employees Retirement Syst | 49.01767                       | \n",
       "| City Light                     | 42.45070                       | \n",
       "| Civil Service Commissions      | 16.03250                       | \n",
       "| Community Police Commission    | 43.12000                       | \n",
       "| Construction and Land Use      | 20.30667                       | \n",
       "| Dept of Education & Early Lrng | 41.17759                       | \n",
       "| Dept of Finance & Admn Svc     | 39.36500                       | \n",
       "| Dept of Neighborhoods          | 16.12000                       | \n",
       "| Fire Department                | 43.16876                       | \n",
       "| Human Services                 | 30.26547                       | \n",
       "| Parks Department               | 25.26890                       | \n",
       "| Hearing Examiner               | 47.63800                       | \n",
       "| Immigrant & Refugee Affairs    | 39.32333                       | \n",
       "| Intergovernmental Relations    | 49.52500                       | \n",
       "| Legislative                    | 17.09818                       | \n",
       "| Legislative-City Council       | 40.92830                       | \n",
       "| Mayor's Office                 | 49.43750                       | \n",
       "| Neighborhoods Department       | 39.02357                       | \n",
       "| Office for Civil Rights        | 39.76778                       | \n",
       "| Office of Economic Development | 44.54250                       | \n",
       "| Office of Ethics & Elections   | 45.82700                       | \n",
       "| Office of Housing              | 43.14000                       | \n",
       "| Office of Labor Standards      | 39.34286                       | \n",
       "| Office of Sustainability & Env | 46.39125                       | \n",
       "| Planning and Community Develop | 47.47523                       | \n",
       "| Police Department              | 43.95464                       | \n",
       "| Seattle Center                 | 25.91778                       | \n",
       "| Police Pension System          | 54.08750                       | \n",
       "| Seattle Dept of Const and Insp | 42.91403                       | \n",
       "| Seattle Dept of HumanResources | 43.98412                       | \n",
       "| Seattle Dept of Transportation | 39.83351                       | \n",
       "| Seattle Information Technology | 50.29199                       | \n",
       "| Seattle Public Utilities       | 39.89413                       | \n",
       "\n",
       "\n"
      ],
      "text/plain": [
       "   Department                     V1      \n",
       "1  Arts and Culture               34.90595\n",
       "2  City Auditor                   56.00900\n",
       "3  City Budget Office             49.09900\n",
       "4  City Employees Retirement Syst 49.01767\n",
       "5  City Light                     42.45070\n",
       "6  Civil Service Commissions      16.03250\n",
       "7  Community Police Commission    43.12000\n",
       "8  Construction and Land Use      20.30667\n",
       "9  Dept of Education & Early Lrng 41.17759\n",
       "10 Dept of Finance & Admn Svc     39.36500\n",
       "11 Dept of Neighborhoods          16.12000\n",
       "12 Fire Department                43.16876\n",
       "13 Human Services                 30.26547\n",
       "14 Parks Department               25.26890\n",
       "15 Hearing Examiner               47.63800\n",
       "16 Immigrant & Refugee Affairs    39.32333\n",
       "17 Intergovernmental Relations    49.52500\n",
       "18 Legislative                    17.09818\n",
       "19 Legislative-City Council       40.92830\n",
       "20 Mayor's Office                 49.43750\n",
       "21 Neighborhoods Department       39.02357\n",
       "22 Office for Civil Rights        39.76778\n",
       "23 Office of Economic Development 44.54250\n",
       "24 Office of Ethics & Elections   45.82700\n",
       "25 Office of Housing              43.14000\n",
       "26 Office of Labor Standards      39.34286\n",
       "27 Office of Sustainability & Env 46.39125\n",
       "28 Planning and Community Develop 47.47523\n",
       "29 Police Department              43.95464\n",
       "30 Seattle Center                 25.91778\n",
       "31 Police Pension System          54.08750\n",
       "32 Seattle Dept of Const and Insp 42.91403\n",
       "33 Seattle Dept of HumanResources 43.98412\n",
       "34 Seattle Dept of Transportation 39.83351\n",
       "35 Seattle Information Technology 50.29199\n",
       "36 Seattle Public Utilities       39.89413"
      ]
     },
     "metadata": {},
     "output_type": "display_data"
    }
   ],
   "source": [
    "# Command (s):\n",
    "wageDT <- as.data.table(wage)\n",
    "wageDT[, mean(Hourly.Rate), by=Department]"
   ]
  },
  {
   "cell_type": "markdown",
   "metadata": {},
   "source": [
    "<h3>Q.3. For the 'Department' feature, create one-hot encodings for each department and add them to the data frame. (i.e. Department.Arts.and.Culture, Department.Legislative)</h3>"
   ]
  },
  {
   "cell_type": "code",
   "execution_count": 4,
   "metadata": {},
   "outputs": [
    {
     "name": "stderr",
     "output_type": "stream",
     "text": [
      "Loading required package: lattice\n",
      "Loading required package: ggplot2\n"
     ]
    },
    {
     "name": "stdout",
     "output_type": "stream",
     "text": [
      "Classes ‘data.table’ and 'data.frame':\t12346 obs. of  41 variables:\n",
      " $ Department                               : chr  \"Arts and Culture\" \"Arts and Culture\" \"Arts and Culture\" \"Arts and Culture\" ...\n",
      " $ Last.Name                                : chr  \"Boas-Du Pree\" \"Bolisay\" \"Chai\" \"Childers\" ...\n",
      " $ First.Name                               : chr  \"Sandra\" \"Ronald\" \"Grace\" \"Calandra\" ...\n",
      " $ Job.Title                                : chr  \"Admin Staff Asst\" \"Publc Relations Spec\" \"Cooperative Intern *\" \"StratAdvsr3,Exempt\" ...\n",
      " $ Hourly.Rate                              : num  34.5 29.1 16.1 48.7 35.9 ...\n",
      " $ Department.Arts.and.Culture              : num  1 1 1 1 1 1 1 1 1 1 ...\n",
      " $ Department.City.Auditor                  : num  0 0 0 0 0 0 0 0 0 0 ...\n",
      " $ Department.City.Budget.Office            : num  0 0 0 0 0 0 0 0 0 0 ...\n",
      " $ Department.City.Employees.Retirement.Syst: num  0 0 0 0 0 0 0 0 0 0 ...\n",
      " $ Department.City.Light                    : num  0 0 0 0 0 0 0 0 0 0 ...\n",
      " $ Department.Civil.Service.Commissions     : num  0 0 0 0 0 0 0 0 0 0 ...\n",
      " $ Department.Community.Police.Commission   : num  0 0 0 0 0 0 0 0 0 0 ...\n",
      " $ Department.Construction.and.Land.Use     : num  0 0 0 0 0 0 0 0 0 0 ...\n",
      " $ Department.Dept.of.Education..Early.Lrng : num  0 0 0 0 0 0 0 0 0 0 ...\n",
      " $ Department.Dept.of.Finance..Admn.Svc     : num  0 0 0 0 0 0 0 0 0 0 ...\n",
      " $ Department.Dept.of.Neighborhoods         : num  0 0 0 0 0 0 0 0 0 0 ...\n",
      " $ Department.Fire.Department.              : num  0 0 0 0 0 0 0 0 0 0 ...\n",
      " $ Department.Hearing.Examiner              : num  0 0 0 0 0 0 0 0 0 0 ...\n",
      " $ Department.Human.Services                : num  0 0 0 0 0 0 0 0 0 0 ...\n",
      " $ Department.Immigrant..Refugee.Affairs    : num  0 0 0 0 0 0 0 0 0 0 ...\n",
      " $ Department.Intergovernmental.Relations   : num  0 0 0 0 0 0 0 0 0 0 ...\n",
      " $ Department.Legislative                   : num  0 0 0 0 0 0 0 0 0 0 ...\n",
      " $ Department.Legislative-City.Council      : num  0 0 0 0 0 0 0 0 0 0 ...\n",
      " $ Department.Mayor's.Office                : num  0 0 0 0 0 0 0 0 0 0 ...\n",
      " $ Department.Neighborhoods.Department.     : num  0 0 0 0 0 0 0 0 0 0 ...\n",
      " $ Department.Office.for.Civil.Rights       : num  0 0 0 0 0 0 0 0 0 0 ...\n",
      " $ Department.Office.of.Economic.Development: num  0 0 0 0 0 0 0 0 0 0 ...\n",
      " $ Department.Office.of.Ethics..Elections   : num  0 0 0 0 0 0 0 0 0 0 ...\n",
      " $ Department.Office.of.Housing             : num  0 0 0 0 0 0 0 0 0 0 ...\n",
      " $ Department.Office.of.Labor.Standards     : num  0 0 0 0 0 0 0 0 0 0 ...\n",
      " $ Department.Office.of.Sustainability..Env : num  0 0 0 0 0 0 0 0 0 0 ...\n",
      " $ Department.Parks.Department.             : num  0 0 0 0 0 0 0 0 0 0 ...\n",
      " $ Department.Planning.and.Community.Develop: num  0 0 0 0 0 0 0 0 0 0 ...\n",
      " $ Department.Police.Department.            : num  0 0 0 0 0 0 0 0 0 0 ...\n",
      " $ Department.Police.Pension.System         : num  0 0 0 0 0 0 0 0 0 0 ...\n",
      " $ Department.Seattle.Center                : num  0 0 0 0 0 0 0 0 0 0 ...\n",
      " $ Department.Seattle.Dept.of.Const.and.Insp: num  0 0 0 0 0 0 0 0 0 0 ...\n",
      " $ Department.Seattle.Dept.of.HumanResources: num  0 0 0 0 0 0 0 0 0 0 ...\n",
      " $ Department.Seattle.Dept.of.Transportation: num  0 0 0 0 0 0 0 0 0 0 ...\n",
      " $ Department.Seattle.Information.Technology: num  0 0 0 0 0 0 0 0 0 0 ...\n",
      " $ Department.Seattle.Public.Utilities      : num  0 0 0 0 0 0 0 0 0 0 ...\n",
      " - attr(*, \".internal.selfref\")=<externalptr> \n"
     ]
    }
   ],
   "source": [
    "# Command(s) \n",
    "library('caret')\n",
    "tmp <- predict(\n",
    "    dummyVars(\" ~ Department\", data = wageDT, sep = \".\"),\n",
    "    newdata = wageDT)\n",
    "wageDT <- data.table(wageDT, tmp)\n",
    "oldcols <- colnames(tmp)\n",
    "newnames <- gsub(\"Department\", \"Department.\", \n",
    "                 gsub(\" \", \".\", gsub(\"&\", \"\", oldcols)))\n",
    "setnames(wageDT, old = oldcols, new = newnames)\n",
    "str(wageDT)\n"
   ]
  },
  {
   "cell_type": "markdown",
   "metadata": {},
   "source": [
    "<h3>Q.4. Use the 'gender' library to determine gender of the person based on their First.Name.</h3>\n",
    "<p>Note that the library returns the most likely gender and associated probability. Introduce IsMale feature to the 'wage' data.frame. Encode the probability in the 'wage' data.frame as log-odds with upper/lower boundary as +5/-5.</p>"
   ]
  },
  {
   "cell_type": "code",
   "execution_count": 5,
   "metadata": {},
   "outputs": [
    {
     "name": "stdout",
     "output_type": "stream",
     "text": [
      "\n",
      "The downloaded binary packages are in\n",
      "\t/var/folders/nh/xb1bcf2s1fdfy5lxpp1g29bm0000gn/T//Rtmp7DfHeY/downloaded_packages\n"
     ]
    }
   ],
   "source": [
    "install.packages(\"gender\")"
   ]
  },
  {
   "cell_type": "code",
   "execution_count": 7,
   "metadata": {},
   "outputs": [
    {
     "name": "stderr",
     "output_type": "stream",
     "text": [
      "Warning message:\n",
      "“unable to access index for repository http://packages.ropensci.org/bin/macosx/el-capitan/contrib/3.4:\n",
      "  cannot open URL 'http://packages.ropensci.org/bin/macosx/el-capitan/contrib/3.4/PACKAGES'”installing the source package ‘genderdata’\n",
      "\n"
     ]
    }
   ],
   "source": [
    "install.packages(\"genderdata\", repos = \"http://packages.ropensci.org\")"
   ]
  },
  {
   "cell_type": "code",
   "execution_count": 5,
   "metadata": {},
   "outputs": [
    {
     "name": "stdout",
     "output_type": "stream",
     "text": [
      "Classes ‘data.table’ and 'data.frame':\t12346 obs. of  43 variables:\n",
      " $ Department                               : chr  \"Arts and Culture\" \"Arts and Culture\" \"Arts and Culture\" \"Arts and Culture\" ...\n",
      " $ Last.Name                                : chr  \"Boas-Du Pree\" \"Bolisay\" \"Chai\" \"Childers\" ...\n",
      " $ First.Name                               : chr  \"Sandra\" \"Ronald\" \"Grace\" \"Calandra\" ...\n",
      " $ Job.Title                                : chr  \"Admin Staff Asst\" \"Publc Relations Spec\" \"Cooperative Intern *\" \"StratAdvsr3,Exempt\" ...\n",
      " $ Hourly.Rate                              : num  34.5 29.1 16.1 48.7 35.9 ...\n",
      " $ Department.Arts.and.Culture              : num  1 1 1 1 1 1 1 1 1 1 ...\n",
      " $ Department.City.Auditor                  : num  0 0 0 0 0 0 0 0 0 0 ...\n",
      " $ Department.City.Budget.Office            : num  0 0 0 0 0 0 0 0 0 0 ...\n",
      " $ Department.City.Employees.Retirement.Syst: num  0 0 0 0 0 0 0 0 0 0 ...\n",
      " $ Department.City.Light                    : num  0 0 0 0 0 0 0 0 0 0 ...\n",
      " $ Department.Civil.Service.Commissions     : num  0 0 0 0 0 0 0 0 0 0 ...\n",
      " $ Department.Community.Police.Commission   : num  0 0 0 0 0 0 0 0 0 0 ...\n",
      " $ Department.Construction.and.Land.Use     : num  0 0 0 0 0 0 0 0 0 0 ...\n",
      " $ Department.Dept.of.Education..Early.Lrng : num  0 0 0 0 0 0 0 0 0 0 ...\n",
      " $ Department.Dept.of.Finance..Admn.Svc     : num  0 0 0 0 0 0 0 0 0 0 ...\n",
      " $ Department.Dept.of.Neighborhoods         : num  0 0 0 0 0 0 0 0 0 0 ...\n",
      " $ Department.Fire.Department.              : num  0 0 0 0 0 0 0 0 0 0 ...\n",
      " $ Department.Hearing.Examiner              : num  0 0 0 0 0 0 0 0 0 0 ...\n",
      " $ Department.Human.Services                : num  0 0 0 0 0 0 0 0 0 0 ...\n",
      " $ Department.Immigrant..Refugee.Affairs    : num  0 0 0 0 0 0 0 0 0 0 ...\n",
      " $ Department.Intergovernmental.Relations   : num  0 0 0 0 0 0 0 0 0 0 ...\n",
      " $ Department.Legislative                   : num  0 0 0 0 0 0 0 0 0 0 ...\n",
      " $ Department.Legislative-City.Council      : num  0 0 0 0 0 0 0 0 0 0 ...\n",
      " $ Department.Mayor's.Office                : num  0 0 0 0 0 0 0 0 0 0 ...\n",
      " $ Department.Neighborhoods.Department.     : num  0 0 0 0 0 0 0 0 0 0 ...\n",
      " $ Department.Office.for.Civil.Rights       : num  0 0 0 0 0 0 0 0 0 0 ...\n",
      " $ Department.Office.of.Economic.Development: num  0 0 0 0 0 0 0 0 0 0 ...\n",
      " $ Department.Office.of.Ethics..Elections   : num  0 0 0 0 0 0 0 0 0 0 ...\n",
      " $ Department.Office.of.Housing             : num  0 0 0 0 0 0 0 0 0 0 ...\n",
      " $ Department.Office.of.Labor.Standards     : num  0 0 0 0 0 0 0 0 0 0 ...\n",
      " $ Department.Office.of.Sustainability..Env : num  0 0 0 0 0 0 0 0 0 0 ...\n",
      " $ Department.Parks.Department.             : num  0 0 0 0 0 0 0 0 0 0 ...\n",
      " $ Department.Planning.and.Community.Develop: num  0 0 0 0 0 0 0 0 0 0 ...\n",
      " $ Department.Police.Department.            : num  0 0 0 0 0 0 0 0 0 0 ...\n",
      " $ Department.Police.Pension.System         : num  0 0 0 0 0 0 0 0 0 0 ...\n",
      " $ Department.Seattle.Center                : num  0 0 0 0 0 0 0 0 0 0 ...\n",
      " $ Department.Seattle.Dept.of.Const.and.Insp: num  0 0 0 0 0 0 0 0 0 0 ...\n",
      " $ Department.Seattle.Dept.of.HumanResources: num  0 0 0 0 0 0 0 0 0 0 ...\n",
      " $ Department.Seattle.Dept.of.Transportation: num  0 0 0 0 0 0 0 0 0 0 ...\n",
      " $ Department.Seattle.Information.Technology: num  0 0 0 0 0 0 0 0 0 0 ...\n",
      " $ Department.Seattle.Public.Utilities      : num  0 0 0 0 0 0 0 0 0 0 ...\n",
      " $ IsMale.Prob                              : num  -5 5 -5 -5 -5 ...\n",
      " $ IsMale                                   : logi  FALSE TRUE FALSE FALSE FALSE FALSE ...\n",
      " - attr(*, \".internal.selfref\")=<externalptr> \n"
     ]
    }
   ],
   "source": [
    "#i've installed gender package locally. \n",
    "#install.packages(\"genderdata\", repos = \"http://packages.ropensci.org\")\n",
    "library(\"gender\")\n",
    "# Commands\n",
    "genderByName <- gender(unique(wageDT$First.Name))\n",
    "is.male <- function(name) {\n",
    "  record <- genderByName[genderByName$name == name,]\n",
    "  if (dim(record)[1] == 0) { return(0) }\n",
    "  log.odds <- log(record$proportion_male) - log(record$proportion_female)\n",
    "  if (log.odds < -5) { return(-5) }\n",
    "  if (log.odds > 5)  { return(5) }\n",
    "  return(log.odds)\n",
    "}\n",
    "wageDT$IsMale.Prob <- sapply(wageDT$First.Name, is.male)\n",
    "wageDT$IsMale <- wageDT$IsMale.Prob > 0\n",
    "str(wageDT)"
   ]
  },
  {
   "cell_type": "markdown",
   "metadata": {},
   "source": [
    "<h3>Q.5. Are men paid more than women in the City of Seattle?</h3>"
   ]
  },
  {
   "cell_type": "code",
   "execution_count": 6,
   "metadata": {},
   "outputs": [
    {
     "data": {
      "text/plain": [
       "   Min. 1st Qu.  Median    Mean 3rd Qu.    Max. \n",
       "   5.11   30.42   40.88   40.36   48.84  166.91 "
      ]
     },
     "metadata": {},
     "output_type": "display_data"
    },
    {
     "data": {
      "text/plain": [
       "   Min. 1st Qu.  Median    Mean 3rd Qu.    Max. \n",
       "   5.11   26.45   35.16   36.90   46.80  134.10 "
      ]
     },
     "metadata": {},
     "output_type": "display_data"
    },
    {
     "data": {
      "text/html": [
       "0.123405613886978"
      ],
      "text/latex": [
       "0.123405613886978"
      ],
      "text/markdown": [
       "0.123405613886978"
      ],
      "text/plain": [
       "[1] 0.1234056"
      ]
     },
     "metadata": {},
     "output_type": "display_data"
    }
   ],
   "source": [
    "# Command to obtain the data\n",
    "maleWages <- wageDT[wageDT$IsMale == TRUE]$Hourly.Rate\n",
    "femaleWages <- wageDT[wageDT$IsMale == FALSE]$Hourly.Rate\n",
    "summary(maleWages)\n",
    "summary(femaleWages)\n",
    "\n",
    "# Comment (one sentence)\n",
    "# as obtained data shows, men paid more then women. \n",
    "# Basically correlation is visible by naked eye, but for \n",
    "# the sake of it, he's formal analysis: \n",
    "cor(wageDT$IsMale, wageDT$Hourly.Rate)\n",
    "\n",
    "# so, there's a positive correlation \n",
    "# I knew it! :(("
   ]
  },
  {
   "cell_type": "markdown",
   "metadata": {},
   "source": [
    "<h3>Q.6. Generate a Dracula Count feature for the Job.Title feature and attach it to the wage data.frame.</h3>"
   ]
  },
  {
   "cell_type": "code",
   "execution_count": 7,
   "metadata": {},
   "outputs": [
    {
     "name": "stdout",
     "output_type": "stream",
     "text": [
      "Classes ‘data.table’ and 'data.frame':\t12346 obs. of  46 variables:\n",
      " $ Department                               : chr  \"City Employees Retirement Syst\" \"City Employees Retirement Syst\" \"City Employees Retirement Syst\" \"City Light\" ...\n",
      " $ Last.Name                                : chr  \"Nguyen\" \"Teklemariam\" \"Togashi\" \"Chase\" ...\n",
      " $ First.Name                               : chr  \"Phuong\" \"Selamawit\" \"Michiko\" \"Sarah\" ...\n",
      " $ Job.Title                                : chr  \"Accountant\" \"Accountant\" \"Accountant\" \"Accountant\" ...\n",
      " $ Hourly.Rate                              : num  34.7 34.7 31 33.4 31 ...\n",
      " $ Department.Arts.and.Culture              : num  0 0 0 0 0 0 0 0 0 0 ...\n",
      " $ Department.City.Auditor                  : num  0 0 0 0 0 0 0 0 0 0 ...\n",
      " $ Department.City.Budget.Office            : num  0 0 0 0 0 0 0 0 0 0 ...\n",
      " $ Department.City.Employees.Retirement.Syst: num  1 1 1 0 0 0 0 0 0 0 ...\n",
      " $ Department.City.Light                    : num  0 0 0 1 1 1 1 1 1 1 ...\n",
      " $ Department.Civil.Service.Commissions     : num  0 0 0 0 0 0 0 0 0 0 ...\n",
      " $ Department.Community.Police.Commission   : num  0 0 0 0 0 0 0 0 0 0 ...\n",
      " $ Department.Construction.and.Land.Use     : num  0 0 0 0 0 0 0 0 0 0 ...\n",
      " $ Department.Dept.of.Education..Early.Lrng : num  0 0 0 0 0 0 0 0 0 0 ...\n",
      " $ Department.Dept.of.Finance..Admn.Svc     : num  0 0 0 0 0 0 0 0 0 0 ...\n",
      " $ Department.Dept.of.Neighborhoods         : num  0 0 0 0 0 0 0 0 0 0 ...\n",
      " $ Department.Fire.Department.              : num  0 0 0 0 0 0 0 0 0 0 ...\n",
      " $ Department.Hearing.Examiner              : num  0 0 0 0 0 0 0 0 0 0 ...\n",
      " $ Department.Human.Services                : num  0 0 0 0 0 0 0 0 0 0 ...\n",
      " $ Department.Immigrant..Refugee.Affairs    : num  0 0 0 0 0 0 0 0 0 0 ...\n",
      " $ Department.Intergovernmental.Relations   : num  0 0 0 0 0 0 0 0 0 0 ...\n",
      " $ Department.Legislative                   : num  0 0 0 0 0 0 0 0 0 0 ...\n",
      " $ Department.Legislative-City.Council      : num  0 0 0 0 0 0 0 0 0 0 ...\n",
      " $ Department.Mayor's.Office                : num  0 0 0 0 0 0 0 0 0 0 ...\n",
      " $ Department.Neighborhoods.Department.     : num  0 0 0 0 0 0 0 0 0 0 ...\n",
      " $ Department.Office.for.Civil.Rights       : num  0 0 0 0 0 0 0 0 0 0 ...\n",
      " $ Department.Office.of.Economic.Development: num  0 0 0 0 0 0 0 0 0 0 ...\n",
      " $ Department.Office.of.Ethics..Elections   : num  0 0 0 0 0 0 0 0 0 0 ...\n",
      " $ Department.Office.of.Housing             : num  0 0 0 0 0 0 0 0 0 0 ...\n",
      " $ Department.Office.of.Labor.Standards     : num  0 0 0 0 0 0 0 0 0 0 ...\n",
      " $ Department.Office.of.Sustainability..Env : num  0 0 0 0 0 0 0 0 0 0 ...\n",
      " $ Department.Parks.Department.             : num  0 0 0 0 0 0 0 0 0 0 ...\n",
      " $ Department.Planning.and.Community.Develop: num  0 0 0 0 0 0 0 0 0 0 ...\n",
      " $ Department.Police.Department.            : num  0 0 0 0 0 0 0 0 0 0 ...\n",
      " $ Department.Police.Pension.System         : num  0 0 0 0 0 0 0 0 0 0 ...\n",
      " $ Department.Seattle.Center                : num  0 0 0 0 0 0 0 0 0 0 ...\n",
      " $ Department.Seattle.Dept.of.Const.and.Insp: num  0 0 0 0 0 0 0 0 0 0 ...\n",
      " $ Department.Seattle.Dept.of.HumanResources: num  0 0 0 0 0 0 0 0 0 0 ...\n",
      " $ Department.Seattle.Dept.of.Transportation: num  0 0 0 0 0 0 0 0 0 0 ...\n",
      " $ Department.Seattle.Information.Technology: num  0 0 0 0 0 0 0 0 0 0 ...\n",
      " $ Department.Seattle.Public.Utilities      : num  0 0 0 0 0 0 0 0 0 0 ...\n",
      " $ IsMale.Prob                              : num  -1.35 -5 -5 -5 4.93 ...\n",
      " $ IsMale                                   : logi  FALSE FALSE FALSE FALSE TRUE FALSE ...\n",
      " $ Count                                    : int  30 30 30 30 30 30 30 30 30 30 ...\n",
      " $ Count.Negative                           : int  12316 12316 12316 12316 12316 12316 12316 12316 12316 12316 ...\n",
      " $ Count.Prob                               : num  0.00243 0.00243 0.00243 0.00243 0.00243 ...\n",
      " - attr(*, \"sorted\")= chr \"Job.Title\"\n",
      " - attr(*, \".internal.selfref\")=<externalptr> \n"
     ]
    }
   ],
   "source": [
    "# Commands\n",
    "# Honestly I am a bit confused about this question.\n",
    "# From the lecture and Misha's Belenko paper I am \n",
    "# having strong impression that dracula counts are\n",
    "# applied to categorical binary data. \n",
    "# Here the closes thing I can think about is class frequency.\n",
    "# Still it's a good feature but, again, I have an \n",
    "# impression it is not a dracula count.\n",
    "\n",
    "drCnt <- wageDT[,list(Count=max(seq_len(.N))), by=Job.Title]\n",
    "nonCnt <- wageDT[,list(NonCount=(nrow(wageDT) - max(seq_len(.N)))), by=Job.Title]\n",
    "fr <- wageDT[,list(NonCount=(max(seq_len(.N))/nrow(wageDT))), by=Job.Title]\n",
    "drCnt$Count.Negative <- nonCnt$NonCount\n",
    "drCnt$Count.Prob <- fr$NonCount\n",
    "setkey(drCnt, Job.Title)\n",
    "setkey(wageDT, Job.Title)\n",
    "result <- wageDT[drCnt, nomatch=0]\n",
    "wageDT <- result\n",
    "str(wageDT)\n"
   ]
  },
  {
   "cell_type": "code",
   "execution_count": 8,
   "metadata": {},
   "outputs": [],
   "source": [
    "# OOPS! Forgot about logs!\n",
    "wageDT$Count.Prob <- sapply(wageDT$Count.Prob, log)"
   ]
  },
  {
   "cell_type": "markdown",
   "metadata": {},
   "source": [
    "<h3>Q.7. Split the data to 70% train / 30% test. Train the linear model on the train dataset and evaluate its performance on the test dataset.</h3>\n",
    "<p>The model should have the following features:</p>\n",
    "<ul>\n",
    "<li>One-hot encodings of the department</li>\n",
    "<li>Two features related to gender</li>\n",
    "<li>Dracula Count features for Job.Title</li>\n",
    "</ul>"
   ]
  },
  {
   "cell_type": "code",
   "execution_count": 9,
   "metadata": {
    "scrolled": false
   },
   "outputs": [
    {
     "data": {},
     "metadata": {},
     "output_type": "display_data"
    },
    {
     "data": {
      "text/plain": [
       "\n",
       "Call:\n",
       "lm(formula = Hourly.Rate ~ ., data = trainData)\n",
       "\n",
       "Residuals:\n",
       "    Min      1Q  Median      3Q     Max \n",
       "-38.418  -8.189  -0.146   6.100 121.264 \n",
       "\n",
       "Coefficients: (2 not defined because of singularities)\n",
       "                                            Estimate Std. Error t value\n",
       "(Intercept)                                33.071919   1.087982  30.397\n",
       "Department.Arts.and.Culture                -6.109720   2.214457  -2.759\n",
       "Department.City.Auditor                    15.866857   4.098201   3.872\n",
       "Department.City.Budget.Office              13.797322   2.386258   5.782\n",
       "Department.City.Employees.Retirement.Syst  13.285109   2.436294   5.453\n",
       "Department.City.Light                       1.989169   0.487112   4.084\n",
       "Department.Civil.Service.Commissions      -29.799468   4.726240  -6.305\n",
       "Department.Community.Police.Commission      3.466539   8.167762   0.424\n",
       "Department.Construction.and.Land.Use      -17.809821   5.780558  -3.081\n",
       "Department.Dept.of.Education..Early.Lrng    2.754186   1.909635   1.442\n",
       "Department.Dept.of.Finance..Admn.Svc       -0.443924   0.669595  -0.663\n",
       "Department.Dept.of.Neighborhoods          -21.806065  11.543131  -1.889\n",
       "Department.Fire.Department.                 3.597833   0.571292   6.298\n",
       "Department.Hearing.Examiner                 3.530322   6.678424   0.529\n",
       "Department.Human.Services                  -8.685286   0.785873 -11.052\n",
       "Department.Immigrant..Refugee.Affairs       0.328918   5.782973   0.057\n",
       "Department.Intergovernmental.Relations      8.183389   3.864428   2.118\n",
       "Department.Legislative                    -23.504104   3.668856  -6.406\n",
       "`Department.Legislative-City.Council`       1.325380   1.408533   0.941\n",
       "`Department.Mayor's.Office`                 6.819418   2.041755   3.340\n",
       "Department.Neighborhoods.Department.        0.253563   1.840865   0.138\n",
       "Department.Office.for.Civil.Rights          1.513055   3.104659   0.487\n",
       "Department.Office.of.Economic.Development   5.934488   2.336749   2.540\n",
       "Department.Office.of.Ethics..Elections      8.353505   4.375345   1.909\n",
       "Department.Office.of.Housing                2.187943   2.211952   0.989\n",
       "Department.Office.of.Labor.Standards        0.215729   3.668127   0.059\n",
       "Department.Office.of.Sustainability..Env    6.041398   2.744713   2.201\n",
       "Department.Parks.Department.              -14.000185   0.512142 -27.337\n",
       "Department.Planning.and.Community.Develop   8.667238   2.293033   3.780\n",
       "Department.Police.Department.               4.509068   0.514601   8.762\n",
       "Department.Police.Pension.System           14.629257   6.673835   2.192\n",
       "Department.Seattle.Center                 -13.366149   0.614736 -21.743\n",
       "Department.Seattle.Dept.of.Const.and.Insp   2.618614   0.817434   3.203\n",
       "Department.Seattle.Dept.of.HumanResources   3.131606   1.493986   2.096\n",
       "Department.Seattle.Dept.of.Transportation  -0.361344   0.583512  -0.619\n",
       "Department.Seattle.Information.Technology  11.191694   0.651767  17.171\n",
       "Department.Seattle.Public.Utilities               NA         NA      NA\n",
       "IsMale.Prob                                 0.065881   0.090370   0.729\n",
       "IsMale                                      1.659283   0.818679   2.027\n",
       "Count                                       0.003469   0.001890   1.836\n",
       "Count.Negative                                    NA         NA      NA\n",
       "Count.Prob                                 -0.912073   0.143275  -6.366\n",
       "                                          Pr(>|t|)    \n",
       "(Intercept)                                < 2e-16 ***\n",
       "Department.Arts.and.Culture               0.005810 ** \n",
       "Department.City.Auditor                   0.000109 ***\n",
       "Department.City.Budget.Office             7.64e-09 ***\n",
       "Department.City.Employees.Retirement.Syst 5.09e-08 ***\n",
       "Department.City.Light                     4.47e-05 ***\n",
       "Department.Civil.Service.Commissions      3.02e-10 ***\n",
       "Department.Community.Police.Commission    0.671272    \n",
       "Department.Construction.and.Land.Use      0.002070 ** \n",
       "Department.Dept.of.Education..Early.Lrng  0.149266    \n",
       "Department.Dept.of.Finance..Admn.Svc      0.507365    \n",
       "Department.Dept.of.Neighborhoods          0.058913 .  \n",
       "Department.Fire.Department.               3.17e-10 ***\n",
       "Department.Hearing.Examiner               0.597085    \n",
       "Department.Human.Services                  < 2e-16 ***\n",
       "Department.Immigrant..Refugee.Affairs     0.954645    \n",
       "Department.Intergovernmental.Relations    0.034236 *  \n",
       "Department.Legislative                    1.57e-10 ***\n",
       "`Department.Legislative-City.Council`     0.346749    \n",
       "`Department.Mayor's.Office`               0.000841 ***\n",
       "Department.Neighborhoods.Department.      0.890448    \n",
       "Department.Office.for.Civil.Rights        0.626023    \n",
       "Department.Office.of.Economic.Development 0.011114 *  \n",
       "Department.Office.of.Ethics..Elections    0.056267 .  \n",
       "Department.Office.of.Housing              0.322620    \n",
       "Department.Office.of.Labor.Standards      0.953103    \n",
       "Department.Office.of.Sustainability..Env  0.027755 *  \n",
       "Department.Parks.Department.               < 2e-16 ***\n",
       "Department.Planning.and.Community.Develop 0.000158 ***\n",
       "Department.Police.Department.              < 2e-16 ***\n",
       "Department.Police.Pension.System          0.028404 *  \n",
       "Department.Seattle.Center                  < 2e-16 ***\n",
       "Department.Seattle.Dept.of.Const.and.Insp 0.001363 ** \n",
       "Department.Seattle.Dept.of.HumanResources 0.036099 *  \n",
       "Department.Seattle.Dept.of.Transportation 0.535763    \n",
       "Department.Seattle.Information.Technology  < 2e-16 ***\n",
       "Department.Seattle.Public.Utilities             NA    \n",
       "IsMale.Prob                               0.466014    \n",
       "IsMale                                    0.042716 *  \n",
       "Count                                     0.066439 .  \n",
       "Count.Negative                                  NA    \n",
       "Count.Prob                                2.04e-10 ***\n",
       "---\n",
       "Signif. codes:  0 ‘***’ 0.001 ‘**’ 0.01 ‘*’ 0.05 ‘.’ 0.1 ‘ ’ 1\n",
       "\n",
       "Residual standard error: 11.54 on 8636 degrees of freedom\n",
       "Multiple R-squared:  0.301,\tAdjusted R-squared:  0.2979 \n",
       "F-statistic: 95.36 on 39 and 8636 DF,  p-value: < 2.2e-16\n"
      ]
     },
     "metadata": {},
     "output_type": "display_data"
    },
    {
     "name": "stderr",
     "output_type": "stream",
     "text": [
      "Warning message in predict.lm(lm.all, testData):\n",
      "“prediction from a rank-deficient fit may be misleading”"
     ]
    },
    {
     "data": {
      "text/html": [
       "11.4003561206019"
      ],
      "text/latex": [
       "11.4003561206019"
      ],
      "text/markdown": [
       "11.4003561206019"
      ],
      "text/plain": [
       "[1] 11.40036"
      ]
     },
     "metadata": {},
     "output_type": "display_data"
    }
   ],
   "source": [
    "wageDT[,IsMale:=as.integer(IsMale)]\n",
    "set.seed(123)\n",
    "idx <- sample(2, nrow(wageDT), replace=TRUE, prob=c(0.7, 0.3))\n",
    "trainData <- wageDT[idx==1,]\n",
    "testData <- wageDT[idx==2,]\n",
    "\n",
    "# Train the linear model on train dataset\n",
    "features.names <- setdiff(names(wageDT), c(\"Department\",\n",
    "                                           \"Last.Name\",\n",
    "                                           \"First.Name\",\n",
    "                                           \"Job.Title\"))\n",
    "trainData <- trainData[,features.names,with=F]\n",
    "lm.all <- lm(Hourly.Rate~., data=trainData)\n",
    "summary(lm.all)\n",
    "\n",
    "\n",
    "# This is actually my worst model! \n",
    "# Couple thoughts: I think think what I got is not a dracula \n",
    "# count actually but more a frequency. Frequency does not encode \n",
    "# output result at all, but dracula indirectly does. SO, frequency is a\n",
    "# very, very weak feature in this case. \n",
    "\n",
    "# Evaluate the model performance on test dataset\n",
    "fit <- predict.lm(lm.all, testData)\n",
    "err <- testData$Hourly.Rate - fit\n",
    "sqrt(sum(err*err) / nrow(testData))"
   ]
  },
  {
   "cell_type": "code",
   "execution_count": 10,
   "metadata": {},
   "outputs": [],
   "source": [
    "# Okay, I decided to try go another direction. \n",
    "# I've noticed job titles actually encodes levels. Let's try\n",
    "# to extract them and to try do dracula count on top of it. \n",
    "# ( if I'll have the mood to improve my model after 2 other questions...)"
   ]
  },
  {
   "cell_type": "markdown",
   "metadata": {},
   "source": [
    "<h3>Q.8. Perform recursive feature elimination on the dataset. Plot RMSD on the test set as the function of number of features used in the model.</h3>"
   ]
  },
  {
   "cell_type": "code",
   "execution_count": 12,
   "metadata": {},
   "outputs": [
    {
     "data": {
      "image/png": "[encoded data removed]",
      "text/plain": [
       "plot without title"
      ]
     },
     "metadata": {},
     "output_type": "display_data"
    }
   ],
   "source": [
    "# Perform RFE\n",
    "\n",
    "features.names <- setdiff(names(wageDT), c(\"Department\",\n",
    "                                           \"Last.Name\",\n",
    "                                           \"First.Name\",\n",
    "                                           \"Job.Title\",\n",
    "                                           \"Department.Seattle.Public.Utilities\",\n",
    "                                           \"Count.Negative\"))\n",
    "\n",
    "trainData <- wageDT[idx==1,]\n",
    "trainData <- trainData[, features.names, with=F]\n",
    "\n",
    "count <- c()\n",
    "result <- c()\n",
    "for (i in 1:(length(trainData) - 1)) {\n",
    "  lm.all <- lm(Hourly.Rate~., data=trainData)\n",
    "  resErr <- testData$Hourly.Rate - predict.lm(lm.all, testData)\n",
    "  result <- c(result, sqrt(sum(resErr^2) / nrow(testData)))\n",
    "  count <- c(count, length(trainData) - 1)\n",
    "  pval <- data.frame(summary(lm.all)$coefficients[,4])\n",
    "  maxInd <- which.max(pval[,1])\n",
    "  dumb <- gsub('`', '', rownames(pval)[maxInd])\n",
    "  features.names <- setdiff(features.names, dumb)\n",
    "  trainData <- trainData[, features.names, with=F]\n",
    "}\n",
    "\n",
    "\n",
    "# Plot RMSD as the function of # of features\n",
    "\n",
    "plot(result~count)"
   ]
  },
  {
   "cell_type": "markdown",
   "metadata": {},
   "source": [
    "<h3>Q.9. Implement your model as a shiny app.</h3>\n",
    "<p>In the app, the person should be able to input:</p>\n",
    "<ul>\n",
    "<li>Department (as drop-down list)</li>\n",
    "<li>Gender (as drop-down list)</li>\n",
    "<li>Job.Title (as drop-down list)</li>\n",
    "</ul>\n",
    "<p>and be given expected hourly salary</p>"
   ]
  },
  {
   "cell_type": "code",
   "execution_count": 12,
   "metadata": {
    "collapsed": true
   },
   "outputs": [],
   "source": [
    "# For this, create separate app.R file that you should submit together with the Jupyter notebook."
   ]
  },
  {
   "cell_type": "code",
   "execution_count": null,
   "metadata": {
    "collapsed": true
   },
   "outputs": [],
   "source": []
  }
 ],
 "metadata": {
  "kernelspec": {
   "display_name": "R",
   "language": "R",
   "name": "ir"
  },
  "language_info": {
   "codemirror_mode": "r",
   "file_extension": ".r",
   "mimetype": "text/x-r-source",
   "name": "R",
   "pygments_lexer": "r",
   "version": "3.4.3"
  }
 },
 "nbformat": 4,
 "nbformat_minor": 2
}
