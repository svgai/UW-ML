{
 "cells": [
  {
   "cell_type": "markdown",
   "metadata": {},
   "source": [
    "<h1>Lesson 3. Classification: Credit worthiness from German bank</h1>"
   ]
  },
  {
   "cell_type": "markdown",
   "metadata": {},
   "source": [
    "<img src=\"https://upload.wikimedia.org/wikipedia/commons/8/8e/Flag_map_of_Germany.svg\" style=\"height:200px;\">\n",
    "  \n",
    "  <p>In this exercise you will predict credit worthiness of custmers of a German bank (<a href=\"https://archive.ics.uci.edu/ml/datasets/statlog+(german+credit+data)\">provided by Hans Hofmann from Univeristy of Hamburg</a>). The data we will be working with here is a reduced version of the full dataset.</p>\n",
    "<p>The following features are available for the 1000-row dataset:</p>\n",
    "<ul>\n",
    "<li>Class: Credit worthiness (what you are trying to predict)</li>\n",
    "<li>Duration: Duration of the credit (in months) </li>\n",
    "<li>Amount: Amount of money asked for (in Deutche Marks (DM))</li>\n",
    "<li>InstallmentRatePercentage: Installment rate in percentage of disposable income </li>\n",
    "<li>ResidenceDuration: Number of years at current residence</li>\n",
    "<li>Age: Person's age</li>\n",
    "<li>NumberExistingCredits: Number of credit accounts</li>\n",
    "<li>NumberPeopleMaintenance: Number of people being liable to provide maintenance for the credit</li>\n",
    "<li>Telephone: Is there a phone number associated with the customer name?  </li>\n",
    "<li>ForeignWorker: Is the person a foreign worker?</li>\n",
    "<li>CheckingAccountStatus: Amount of money in the checking account (in DM)<ul>\n",
    "<li>CheckingAccountStatus.lt.0</li>\n",
    "<li>CheckingAccountStatus.0.to.200</li>\n",
    "<li>CheckingAccountStatus.gt.200</li>\n",
    "</ul></li>\n",
    "<li>CreditHistory: Past credit history<ul>\n",
    "<li>CreditHistory.ThisBank.AllPaid</li>\n",
    "<li>CreditHistory.PaidDuly</li>\n",
    "<li>CreditHistory.Delay</li>\n",
    "<li>CreditHistory.Critical</li>\n",
    "</ul></li>\n",
    "</ul>\n",
    "\n",
    "<p>This dataset is available in <a href=\"http://caret.r-forge.r-project.org/\">'caret'</a> library. Let's load it and see how it looks:</p>"
   ]
  },
  {
   "cell_type": "code",
   "execution_count": 2,
   "metadata": {},
   "outputs": [
    {
     "name": "stderr",
     "output_type": "stream",
     "text": [
      "Loading required package: lattice\n",
      "Loading required package: ggplot2\n"
     ]
    },
    {
     "data": {
      "text/html": [
       "<table>\n",
       "<thead><tr><th></th><th scope=col>Class</th><th scope=col>Duration</th><th scope=col>Amount</th><th scope=col>InstallmentRatePercentage</th><th scope=col>ResidenceDuration</th><th scope=col>Age</th><th scope=col>NumberExistingCredits</th><th scope=col>NumberPeopleMaintenance</th><th scope=col>Telephone</th><th scope=col>ForeignWorker</th><th scope=col>CheckingAccountStatus.lt.0</th><th scope=col>CheckingAccountStatus.0.to.200</th><th scope=col>CheckingAccountStatus.gt.200</th><th scope=col>CreditHistory.ThisBank.AllPaid</th><th scope=col>CreditHistory.PaidDuly</th><th scope=col>CreditHistory.Delay</th><th scope=col>CreditHistory.Critical</th></tr></thead>\n",
       "<tbody>\n",
       "\t<tr><th scope=row>1</th><td>Good</td><td> 6  </td><td>1169</td><td>4   </td><td>4   </td><td>67  </td><td>2   </td><td>1   </td><td>0   </td><td>1   </td><td>1   </td><td>0   </td><td>0   </td><td>0   </td><td>0   </td><td>0   </td><td>1   </td></tr>\n",
       "\t<tr><th scope=row>2</th><td>Bad </td><td>48  </td><td>5951</td><td>2   </td><td>2   </td><td>22  </td><td>1   </td><td>1   </td><td>1   </td><td>1   </td><td>0   </td><td>1   </td><td>0   </td><td>0   </td><td>1   </td><td>0   </td><td>0   </td></tr>\n",
       "\t<tr><th scope=row>3</th><td>Good</td><td>12  </td><td>2096</td><td>2   </td><td>3   </td><td>49  </td><td>1   </td><td>2   </td><td>1   </td><td>1   </td><td>0   </td><td>0   </td><td>0   </td><td>0   </td><td>0   </td><td>0   </td><td>1   </td></tr>\n",
       "\t<tr><th scope=row>6</th><td>Good</td><td>36  </td><td>9055</td><td>2   </td><td>4   </td><td>35  </td><td>1   </td><td>2   </td><td>0   </td><td>1   </td><td>0   </td><td>0   </td><td>0   </td><td>0   </td><td>1   </td><td>0   </td><td>0   </td></tr>\n",
       "\t<tr><th scope=row>7</th><td>Good</td><td>24  </td><td>2835</td><td>3   </td><td>4   </td><td>53  </td><td>1   </td><td>1   </td><td>1   </td><td>1   </td><td>0   </td><td>0   </td><td>0   </td><td>0   </td><td>1   </td><td>0   </td><td>0   </td></tr>\n",
       "\t<tr><th scope=row>9</th><td>Good</td><td>12  </td><td>3059</td><td>2   </td><td>4   </td><td>61  </td><td>1   </td><td>1   </td><td>1   </td><td>1   </td><td>0   </td><td>0   </td><td>0   </td><td>0   </td><td>1   </td><td>0   </td><td>0   </td></tr>\n",
       "</tbody>\n",
       "</table>\n"
      ],
      "text/latex": [
       "\\begin{tabular}{r|lllllllllllllllll}\n",
       "  & Class & Duration & Amount & InstallmentRatePercentage & ResidenceDuration & Age & NumberExistingCredits & NumberPeopleMaintenance & Telephone & ForeignWorker & CheckingAccountStatus.lt.0 & CheckingAccountStatus.0.to.200 & CheckingAccountStatus.gt.200 & CreditHistory.ThisBank.AllPaid & CreditHistory.PaidDuly & CreditHistory.Delay & CreditHistory.Critical\\\\\n",
       "\\hline\n",
       "\t1 & Good &  6   & 1169 & 4    & 4    & 67   & 2    & 1    & 0    & 1    & 1    & 0    & 0    & 0    & 0    & 0    & 1   \\\\\n",
       "\t2 & Bad  & 48   & 5951 & 2    & 2    & 22   & 1    & 1    & 1    & 1    & 0    & 1    & 0    & 0    & 1    & 0    & 0   \\\\\n",
       "\t3 & Good & 12   & 2096 & 2    & 3    & 49   & 1    & 2    & 1    & 1    & 0    & 0    & 0    & 0    & 0    & 0    & 1   \\\\\n",
       "\t6 & Good & 36   & 9055 & 2    & 4    & 35   & 1    & 2    & 0    & 1    & 0    & 0    & 0    & 0    & 1    & 0    & 0   \\\\\n",
       "\t7 & Good & 24   & 2835 & 3    & 4    & 53   & 1    & 1    & 1    & 1    & 0    & 0    & 0    & 0    & 1    & 0    & 0   \\\\\n",
       "\t9 & Good & 12   & 3059 & 2    & 4    & 61   & 1    & 1    & 1    & 1    & 0    & 0    & 0    & 0    & 1    & 0    & 0   \\\\\n",
       "\\end{tabular}\n"
      ],
      "text/markdown": [
       "\n",
       "| <!--/--> | Class | Duration | Amount | InstallmentRatePercentage | ResidenceDuration | Age | NumberExistingCredits | NumberPeopleMaintenance | Telephone | ForeignWorker | CheckingAccountStatus.lt.0 | CheckingAccountStatus.0.to.200 | CheckingAccountStatus.gt.200 | CreditHistory.ThisBank.AllPaid | CreditHistory.PaidDuly | CreditHistory.Delay | CreditHistory.Critical | \n",
       "|---|---|---|---|---|---|\n",
       "| 1 | Good |  6   | 1169 | 4    | 4    | 67   | 2    | 1    | 0    | 1    | 1    | 0    | 0    | 0    | 0    | 0    | 1    | \n",
       "| 2 | Bad  | 48   | 5951 | 2    | 2    | 22   | 1    | 1    | 1    | 1    | 0    | 1    | 0    | 0    | 1    | 0    | 0    | \n",
       "| 3 | Good | 12   | 2096 | 2    | 3    | 49   | 1    | 2    | 1    | 1    | 0    | 0    | 0    | 0    | 0    | 0    | 1    | \n",
       "| 6 | Good | 36   | 9055 | 2    | 4    | 35   | 1    | 2    | 0    | 1    | 0    | 0    | 0    | 0    | 1    | 0    | 0    | \n",
       "| 7 | Good | 24   | 2835 | 3    | 4    | 53   | 1    | 1    | 1    | 1    | 0    | 0    | 0    | 0    | 1    | 0    | 0    | \n",
       "| 9 | Good | 12   | 3059 | 2    | 4    | 61   | 1    | 1    | 1    | 1    | 0    | 0    | 0    | 0    | 1    | 0    | 0    | \n",
       "\n",
       "\n"
      ],
      "text/plain": [
       "  Class Duration Amount InstallmentRatePercentage ResidenceDuration Age\n",
       "1 Good   6       1169   4                         4                 67 \n",
       "2 Bad   48       5951   2                         2                 22 \n",
       "3 Good  12       2096   2                         3                 49 \n",
       "6 Good  36       9055   2                         4                 35 \n",
       "7 Good  24       2835   3                         4                 53 \n",
       "9 Good  12       3059   2                         4                 61 \n",
       "  NumberExistingCredits NumberPeopleMaintenance Telephone ForeignWorker\n",
       "1 2                     1                       0         1            \n",
       "2 1                     1                       1         1            \n",
       "3 1                     2                       1         1            \n",
       "6 1                     2                       0         1            \n",
       "7 1                     1                       1         1            \n",
       "9 1                     1                       1         1            \n",
       "  CheckingAccountStatus.lt.0 CheckingAccountStatus.0.to.200\n",
       "1 1                          0                             \n",
       "2 0                          1                             \n",
       "3 0                          0                             \n",
       "6 0                          0                             \n",
       "7 0                          0                             \n",
       "9 0                          0                             \n",
       "  CheckingAccountStatus.gt.200 CreditHistory.ThisBank.AllPaid\n",
       "1 0                            0                             \n",
       "2 0                            0                             \n",
       "3 0                            0                             \n",
       "6 0                            0                             \n",
       "7 0                            0                             \n",
       "9 0                            0                             \n",
       "  CreditHistory.PaidDuly CreditHistory.Delay CreditHistory.Critical\n",
       "1 0                      0                   1                     \n",
       "2 1                      0                   0                     \n",
       "3 0                      0                   1                     \n",
       "6 1                      0                   0                     \n",
       "7 1                      0                   0                     \n",
       "9 1                      0                   0                     "
      ]
     },
     "metadata": {},
     "output_type": "display_data"
    },
    {
     "name": "stdout",
     "output_type": "stream",
     "text": [
      "'data.frame':\t802 obs. of  17 variables:\n",
      " $ Class                         : Factor w/ 2 levels \"Bad\",\"Good\": 2 1 2 2 2 2 1 1 2 1 ...\n",
      " $ Duration                      : int  6 48 12 36 24 12 30 48 12 24 ...\n",
      " $ Amount                        : int  1169 5951 2096 9055 2835 3059 5234 4308 1567 1199 ...\n",
      " $ InstallmentRatePercentage     : int  4 2 2 2 3 2 4 3 1 4 ...\n",
      " $ ResidenceDuration             : int  4 2 3 4 4 4 2 4 1 4 ...\n",
      " $ Age                           : int  67 22 49 35 53 61 28 24 22 60 ...\n",
      " $ NumberExistingCredits         : int  2 1 1 1 1 1 2 1 1 2 ...\n",
      " $ NumberPeopleMaintenance       : int  1 1 2 2 1 1 1 1 1 1 ...\n",
      " $ Telephone                     : num  0 1 1 0 1 1 1 1 0 1 ...\n",
      " $ ForeignWorker                 : num  1 1 1 1 1 1 1 1 1 1 ...\n",
      " $ CheckingAccountStatus.lt.0    : num  1 0 0 0 0 0 0 1 0 1 ...\n",
      " $ CheckingAccountStatus.0.to.200: num  0 1 0 0 0 0 1 0 1 0 ...\n",
      " $ CheckingAccountStatus.gt.200  : num  0 0 0 0 0 0 0 0 0 0 ...\n",
      " $ CreditHistory.ThisBank.AllPaid: num  0 0 0 0 0 0 0 0 0 0 ...\n",
      " $ CreditHistory.PaidDuly        : num  0 1 0 1 1 1 0 1 1 0 ...\n",
      " $ CreditHistory.Delay           : num  0 0 0 0 0 0 0 0 0 0 ...\n",
      " $ CreditHistory.Critical        : num  1 0 1 0 0 0 1 0 0 1 ...\n"
     ]
    }
   ],
   "source": [
    "library(\"MASS\") # For lda\n",
    "library(\"caret\") # For the dataset\n",
    "data(GermanCredit)\n",
    "# 'credit' is the reduced version that we will be working with\n",
    "credit.all <- GermanCredit[,c(10, 1:9, 11:13, 16:19)]\n",
    "set.seed(123)\n",
    "credit.idx <- sample(2, nrow(credit.all), replace=TRUE, prob=c(4/5, 1/5))\n",
    "\n",
    "credit.train <- credit.all[credit.idx==1,]\n",
    "credit.test <- credit.all[credit.idx==2,]\n",
    "head(credit.train)\n",
    "str(credit.train)"
   ]
  },
  {
   "cell_type": "markdown",
   "metadata": {},
   "source": [
    "<h3>Q.1. Show a boxplot of the age of the person asking for the credit vs. their credit worthiness for the training data. Is age a good predictor of the credit worthiness?</h3>"
   ]
  },
  {
   "cell_type": "code",
   "execution_count": 3,
   "metadata": {},
   "outputs": [
    {
     "data": {
      "image/png": "[encoded data removed]",
      "text/plain": [
       "plot without title"
      ]
     },
     "metadata": {},
     "output_type": "display_data"
    }
   ],
   "source": [
    "# Put the command (or commands) here that would give an answer to the above question.\n",
    "boxplot(credit.train$Age~credit.train$Class)\n",
    "# Comment whether age is a good predictor\n",
    "# No, I don't think age is a good predictor for credit worthiness, as difference \n",
    "# between two classes on box plots are barely different. For most ages out of this \n",
    "# training set (esp. starting from 25 till 40) person equally likely may be assigned\n",
    "# to any of two classes"
   ]
  },
  {
   "cell_type": "markdown",
   "metadata": {},
   "source": [
    "<h3>Q.2. Can you generate a table that shows CreditHistory.Critical vs. Credit Worthiness for the training data. Can you comment whether person with critical credit history is more credit worthy?</h3> "
   ]
  },
  {
   "cell_type": "code",
   "execution_count": 6,
   "metadata": {},
   "outputs": [
    {
     "data": {
      "text/plain": [
       "      \n",
       "         0   1\n",
       "  Bad  196  37\n",
       "  Good 371 198"
      ]
     },
     "metadata": {},
     "output_type": "display_data"
    }
   ],
   "source": [
    "# Command:\n",
    "table(credit.train$Class, credit.train$CreditHistory.Critical)\n",
    "\n",
    "# One sentence summary:\n",
    "# ratio is 0.65% for non-critical credit history (good / good + bad)\n",
    "# 0.84% for critical credit history\n",
    "# so, given this data one can say that person with critical credit \n",
    "# history is more credit worthy. This makes no common sense, so \n",
    "# it means that critical history as the only predictor is not good \n",
    "# for a model"
   ]
  },
  {
   "cell_type": "markdown",
   "metadata": {},
   "source": [
    "<h3>Q.3. Generate a logistic regression model that uses the data. Summarize the data with a command. </h3>"
   ]
  },
  {
   "cell_type": "code",
   "execution_count": 8,
   "metadata": {},
   "outputs": [
    {
     "data": {
      "text/plain": [
       "\n",
       "Call:\n",
       "glm(formula = Class ~ . - ResidenceDuration - NumberPeopleMaintenance - \n",
       "    Telephone - CreditHistory.ThisBank.AllPaid - NumberExistingCredits - \n",
       "    CheckingAccountStatus.0.to.200, family = binomial, data = credit.train)\n",
       "\n",
       "Deviance Residuals: \n",
       "    Min       1Q   Median       3Q      Max  \n",
       "-2.3147  -0.9038   0.5535   0.7620   1.9046  \n",
       "\n",
       "Coefficients:\n",
       "                               Estimate Std. Error z value Pr(>|z|)    \n",
       "(Intercept)                   2.310e+00  8.872e-01   2.604 0.009226 ** \n",
       "Duration                     -1.850e-02  8.976e-03  -2.061 0.039277 *  \n",
       "Amount                       -7.758e-05  3.965e-05  -1.957 0.050405 .  \n",
       "InstallmentRatePercentage    -2.431e-01  8.672e-02  -2.803 0.005062 ** \n",
       "Age                           2.127e-02  8.053e-03   2.641 0.008264 ** \n",
       "ForeignWorker                -1.448e+00  7.640e-01  -1.895 0.058110 .  \n",
       "CheckingAccountStatus.lt.0   -1.357e+00  1.893e-01  -7.167 7.68e-13 ***\n",
       "CheckingAccountStatus.gt.200 -3.969e-01  3.605e-01  -1.101 0.270894    \n",
       "CreditHistory.PaidDuly        1.048e+00  2.814e-01   3.726 0.000195 ***\n",
       "CreditHistory.Delay           9.585e-01  3.716e-01   2.580 0.009892 ** \n",
       "CreditHistory.Critical        1.792e+00  3.180e-01   5.634 1.76e-08 ***\n",
       "---\n",
       "Signif. codes:  0 ‘***’ 0.001 ‘**’ 0.01 ‘*’ 0.05 ‘.’ 0.1 ‘ ’ 1\n",
       "\n",
       "(Dispersion parameter for binomial family taken to be 1)\n",
       "\n",
       "    Null deviance: 966.60  on 801  degrees of freedom\n",
       "Residual deviance: 822.28  on 791  degrees of freedom\n",
       "AIC: 844.28\n",
       "\n",
       "Number of Fisher Scoring iterations: 5\n"
      ]
     },
     "metadata": {},
     "output_type": "display_data"
    }
   ],
   "source": [
    "# Command(s):\n",
    "credit.glm <- glm(Class~.\n",
    "                  -ResidenceDuration\n",
    "                  -NumberPeopleMaintenance\n",
    "                  -Telephone\n",
    "                  -CreditHistory.ThisBank.AllPaid\n",
    "                  -NumberExistingCredits\n",
    "                  -CheckingAccountStatus.0.to.200,\n",
    "                  data=credit.train,\n",
    "                  family=binomial)\n",
    "# Summarize:\n",
    " summary(credit.glm)\n",
    "\n",
    "#in current model I used backward selection method to get rid from \n",
    "#insignificant features (the ones with large p-value).\n",
    "#I also got rid of features that may be represented via others \n",
    "# to avoid colliniarity (like CheckingAccountStatus.0.to.200)"
   ]
  },
  {
   "cell_type": "markdown",
   "metadata": {},
   "source": [
    "<h3>Q.4. Do values of the coefficients for CreditHistory.Critical agree with your conclusion from Q.3?</h3>"
   ]
  },
  {
   "cell_type": "code",
   "execution_count": 9,
   "metadata": {
    "collapsed": true
   },
   "outputs": [],
   "source": [
    "# One-two sentences.\n",
    "# Since CreditHistory.Critical coefficient is positive \n",
    "# it has positive influence on credit worthiness (but not linear).\n",
    "# Honestly I'm having hard time explaining why it may have happened: \n",
    "# I looked for original data set and explanation of criticallness. It means\n",
    "# critical history OR other opened credits in different banks. Overall, other \n",
    "# opened credits may have positive influence (for example, other organizations \n",
    "# did background check and decided person is credit worthy). Or the facts that\n",
    "# person has opened credits in other banks may mean he want to refinance his \n",
    "# credit which is also acceptable.\n",
    "# I think the problem here may be in data itself. It may be worth to split \n",
    "# bad credit history from opened accounts for less confusion. But these two features \n",
    "# may be intentionally merged together (as we saw in example of radio x TV in sales \n",
    "# dataset) or because it has high collinearity."
   ]
  },
  {
   "cell_type": "markdown",
   "metadata": {},
   "source": [
    "<h3>Q.5. Using the developed model, predict the values in credit.test and use it to output a confusion matrix.</h3>"
   ]
  },
  {
   "cell_type": "code",
   "execution_count": 13,
   "metadata": {},
   "outputs": [
    {
     "data": {
      "text/plain": [
       "       \n",
       "        Bad Good\n",
       "  FALSE  24   14\n",
       "  TRUE   43  117"
      ]
     },
     "metadata": {},
     "output_type": "display_data"
    }
   ],
   "source": [
    "# Command that outputs probability for each row of credit.test\n",
    "credit.pred <- predict(credit.glm, credit.test, type=\"response\") \n",
    "# Command(s) for confusion matrix\n",
    "table(credit.pred >= 0.5, credit.test[,'Class'])"
   ]
  },
  {
   "cell_type": "markdown",
   "metadata": {},
   "source": [
    "<h3>Q.6. What is the accuracy of the model on the test data?</h3>"
   ]
  },
  {
   "cell_type": "code",
   "execution_count": 14,
   "metadata": {},
   "outputs": [
    {
     "data": {
      "text/html": [
       "0.712121212121212"
      ],
      "text/latex": [
       "0.712121212121212"
      ],
      "text/markdown": [
       "0.712121212121212"
      ],
      "text/plain": [
       "[1] 0.7121212"
      ]
     },
     "metadata": {},
     "output_type": "display_data"
    }
   ],
   "source": [
    "# Command that outputs accuracy\n",
    "sum(as.integer(credit.test$Class) == (as.integer(credit.pred >= 0.5) + 1)) / length(credit.test$Class)"
   ]
  },
  {
   "cell_type": "markdown",
   "metadata": {},
   "source": [
    "<h3>Q.6. Implement a function that will calculate ROC AUC.</h3>"
   ]
  },
  {
   "cell_type": "code",
   "execution_count": 15,
   "metadata": {
    "collapsed": true
   },
   "outputs": [],
   "source": [
    "#install.packages(\"pROC\")\n",
    "library(sfsmisc)\n",
    "auc <- function(cls, prob)\n",
    "{\n",
    "    eps <- 0.01\n",
    "    x <- c()\n",
    "    y <- c()\n",
    "    for(pr in seq(from=0.0,to=1.0, by=eps))\n",
    "    {\n",
    "        table.table <- table(factor(prob >= pr, c(F, T)), cls)\n",
    "        fp <- table.table['TRUE','Bad'] / (table.table['TRUE', 'Bad'] + table.table['FALSE','Bad'])\n",
    "        tp <- table.table['TRUE', 'Good'] / (table.table['TRUE', 'Good'] + table.table['FALSE', 'Good'])\n",
    "        y = c(y, tp)\n",
    "        x = c(x, fp)\n",
    "    }\n",
    "    return (integrate.xy(x,y,0,1))\n",
    "}"
   ]
  },
  {
   "cell_type": "markdown",
   "metadata": {},
   "source": [
    "<h3>Q.7. What is the ROC AUC of the model on the test data?</h3>"
   ]
  },
  {
   "cell_type": "code",
   "execution_count": 16,
   "metadata": {},
   "outputs": [
    {
     "data": {
      "text/html": [
       "0.723077011155068"
      ],
      "text/latex": [
       "0.723077011155068"
      ],
      "text/markdown": [
       "0.723077011155068"
      ],
      "text/plain": [
       "[1] 0.723077"
      ]
     },
     "metadata": {},
     "output_type": "display_data"
    }
   ],
   "source": [
    "# Command(s):\n",
    "auc(credit.test[,'Class'],credit.pred)"
   ]
  },
  {
   "cell_type": "markdown",
   "metadata": {},
   "source": [
    "<h3>Q.8. Calculate LDA model on credit.train.</h3>"
   ]
  },
  {
   "cell_type": "code",
   "execution_count": 17,
   "metadata": {},
   "outputs": [
    {
     "data": {
      "text/plain": [
       "Call:\n",
       "lda(Class ~ . - ResidenceDuration - NumberPeopleMaintenance - \n",
       "    Telephone - CreditHistory.ThisBank.AllPaid - NumberExistingCredits - \n",
       "    CheckingAccountStatus.0.to.200, data = credit.train)\n",
       "\n",
       "Prior probabilities of groups:\n",
       "      Bad      Good \n",
       "0.2905237 0.7094763 \n",
       "\n",
       "Group means:\n",
       "     Duration   Amount InstallmentRatePercentage      Age ForeignWorker\n",
       "Bad  24.69957 3888.202                  3.154506 34.20601     0.9914163\n",
       "Good 19.38489 3022.954                  2.926186 36.52548     0.9525483\n",
       "     CheckingAccountStatus.lt.0 CheckingAccountStatus.gt.200\n",
       "Bad                   0.4506438                   0.05579399\n",
       "Good                  0.1950791                   0.07205624\n",
       "     CreditHistory.PaidDuly CreditHistory.Delay CreditHistory.Critical\n",
       "Bad               0.5622318          0.09442060              0.1587983\n",
       "Good              0.5114236          0.08787346              0.3479789\n",
       "\n",
       "Coefficients of linear discriminants:\n",
       "                                       LD1\n",
       "Duration                     -2.072454e-02\n",
       "Amount                       -7.914059e-05\n",
       "InstallmentRatePercentage    -2.292877e-01\n",
       "Age                           1.995561e-02\n",
       "ForeignWorker                -9.033179e-01\n",
       "CheckingAccountStatus.lt.0   -1.539652e+00\n",
       "CheckingAccountStatus.gt.200 -4.346156e-01\n",
       "CreditHistory.PaidDuly        1.326169e+00\n",
       "CreditHistory.Delay           1.263933e+00\n",
       "CreditHistory.Critical        2.012785e+00"
      ]
     },
     "metadata": {},
     "output_type": "display_data"
    }
   ],
   "source": [
    "# Command\n",
    "credit.lda <- lda(Class~.\n",
    "                   -ResidenceDuration\n",
    "                   -NumberPeopleMaintenance\n",
    "                   -Telephone\n",
    "                   -CreditHistory.ThisBank.AllPaid\n",
    "                   -NumberExistingCredits\n",
    "                   -CheckingAccountStatus.0.to.200,\n",
    "                   data=credit.train)\n",
    "credit.lda"
   ]
  },
  {
   "cell_type": "markdown",
   "metadata": {},
   "source": [
    "<h3>Q.9. Determine a confusion matrix for the LDA model calculated on the test data. What is the accuracy of the model?</h3>"
   ]
  },
  {
   "cell_type": "code",
   "execution_count": 19,
   "metadata": {},
   "outputs": [
    {
     "data": {
      "text/plain": [
       "       \n",
       "        Bad Good\n",
       "  FALSE  26   15\n",
       "  TRUE   41  116"
      ]
     },
     "metadata": {},
     "output_type": "display_data"
    },
    {
     "data": {
      "text/html": [
       "0.717171717171717"
      ],
      "text/latex": [
       "0.717171717171717"
      ],
      "text/markdown": [
       "0.717171717171717"
      ],
      "text/plain": [
       "[1] 0.7171717"
      ]
     },
     "metadata": {},
     "output_type": "display_data"
    }
   ],
   "source": [
    "# Predict & confusion matrix\n",
    "credit.lda.pred <- predict(credit.lda, credit.test)\n",
    "table(credit.lda.pred$posterior[,2]>=0.5, credit.test$Class)\n",
    "# Accuracy calculation\n",
    "sum(as.integer(\n",
    "    credit.test$Class) == (\n",
    "    as.integer(\n",
    "        credit.lda.pred$posterior[,2]>=0.5) + 1)) / length(credit.test$Class)"
   ]
  },
  {
   "cell_type": "code",
   "execution_count": 21,
   "metadata": {},
   "outputs": [
    {
     "data": {
      "text/plain": [
       "[1] \"2018-01-29 01:36:28 PST\""
      ]
     },
     "metadata": {},
     "output_type": "display_data"
    }
   ],
   "source": [
    "Sys.time() # :("
   ]
  },
  {
   "cell_type": "code",
   "execution_count": null,
   "metadata": {
    "collapsed": true
   },
   "outputs": [],
   "source": []
  }
 ],
 "metadata": {
  "kernelspec": {
   "display_name": "R",
   "language": "R",
   "name": "ir"
  },
  "language_info": {
   "codemirror_mode": "r",
   "file_extension": ".r",
   "mimetype": "text/x-r-source",
   "name": "R",
   "pygments_lexer": "r",
   "version": "3.3.2"
  }
 },
 "nbformat": 4,
 "nbformat_minor": 2
}
